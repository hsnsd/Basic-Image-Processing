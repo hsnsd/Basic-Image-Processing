{
 "cells": [
  {
   "cell_type": "code",
   "execution_count": 1,
   "metadata": {},
   "outputs": [
    {
     "name": "stdout",
     "output_type": "stream",
     "text": [
      "1-20.json 19\n",
      "101-120.json 20\n",
      "121-140.json 20\n",
      "141-160.json 20\n",
      "161-180.json 20\n",
      "181-200.json 20\n",
      "201-220.json 20\n",
      "21-40.json 20\n",
      "221-240.json 20\n",
      "241-260.json 20\n",
      "261-280.json 20\n",
      "281-300.json 20\n",
      "301-320.json 20\n",
      "321-340.json 20\n",
      "341-360.json 20\n",
      "361-380.json 20\n",
      "381-400.json 20\n",
      "401-420.json 20\n",
      "41-60.json 20\n",
      "421-440.json 20\n",
      "441-470.json 30\n",
      "471-500.json 30\n",
      "501-550.json 49\n",
      "551-600.json 50\n",
      "601-650.json 50\n",
      "61-80.json 19\n",
      "651-700.json 100\n",
      "801-820.json 20\n",
      "81-100.json 20\n",
      "821-840.json 20\n",
      "841-860.json 20\n",
      "861-880.json 20\n",
      "881-899.json 18\n",
      "900-926.json 27\n",
      "927-953.json 27\n",
      "954-1000.json 45\n",
      "ere\n"
     ]
    }
   ],
   "source": [
    "import os\n",
    "import json\n",
    "\n",
    "jsonDir = os.path.join(os.getcwd(), \"jsonLabels\")\n",
    "merged = {}\n",
    "for filename in os.listdir(jsonDir):\n",
    "    if \".json\" in filename:\n",
    "        file = open(jsonDir + \"/\" + filename)\n",
    "        data = json.load(file)\n",
    "        print(filename, len(data))\n",
    "        merged.update(data)\n",
    "        \n",
    "with open('output.json', 'w') as fp:\n",
    "    print('ere')\n",
    "    json.dump(merged, fp, sort_keys=True)"
   ]
  },
  {
   "cell_type": "code",
   "execution_count": null,
   "metadata": {},
   "outputs": [],
   "source": []
  },
  {
   "cell_type": "code",
   "execution_count": null,
   "metadata": {},
   "outputs": [],
   "source": []
  }
 ],
 "metadata": {
  "kernelspec": {
   "display_name": "Python 3",
   "language": "python",
   "name": "python3"
  },
  "language_info": {
   "codemirror_mode": {
    "name": "ipython",
    "version": 3
   },
   "file_extension": ".py",
   "mimetype": "text/x-python",
   "name": "python",
   "nbconvert_exporter": "python",
   "pygments_lexer": "ipython3",
   "version": "3.6.4"
  }
 },
 "nbformat": 4,
 "nbformat_minor": 2
}
